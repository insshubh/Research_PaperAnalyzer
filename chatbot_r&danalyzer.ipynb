{
  "cells": [
    {
      "cell_type": "markdown",
      "metadata": {
        "id": "view-in-github",
        "colab_type": "text"
      },
      "source": [
        "<a href=\"https://colab.research.google.com/github/insshubh/Research_PaperAnalyzer/blob/main/chatbot_r%26danalyzer.ipynb\" target=\"_parent\"><img src=\"https://colab.research.google.com/assets/colab-badge.svg\" alt=\"Open In Colab\"/></a>"
      ]
    },
    {
      "cell_type": "code",
      "execution_count": null,
      "metadata": {
        "id": "tJbEd5oJqkqi"
      },
      "outputs": [],
      "source": [
        "import nltk\n",
        "import numpy as np\n",
        "import string\n",
        "import random\n",
        "import pandas as pd"
      ]
    },
    {
      "cell_type": "markdown",
      "source": [
        "# New Section"
      ],
      "metadata": {
        "id": "8HyL-BCkVc6x"
      }
    },
    {
      "cell_type": "markdown",
      "metadata": {
        "id": "QliCQqlRsqzG"
      },
      "source": [
        "Reading the Corpus.\n"
      ]
    },
    {
      "cell_type": "code",
      "execution_count": null,
      "metadata": {
        "id": "T_vt15LSsy7O"
      },
      "outputs": [],
      "source": [
        "f = open('/content/drive/MyDrive/test_analyzer.csv','r',errors = 'ignore')\n",
        "raw = f.read()"
      ]
    },
    {
      "cell_type": "code",
      "execution_count": null,
      "metadata": {
        "colab": {
          "base_uri": "https://localhost:8080/",
          "height": 140
        },
        "id": "VREk7LLeuFn5",
        "outputId": "043163df-4d72-456c-a286-08c2b34adc62"
      },
      "outputs": [
        {
          "output_type": "execute_result",
          "data": {
            "text/plain": [
              "',Name of Book,Price,Rating,Stock\\n0,A Light in the Attic,£51.77,Three,In stock\\n1,Tipping the Velvet,£53.74,One,In stock\\n2,Soumission,£50.10,One,In stock\\n3,Sharp Objects,£47.82,Four,In stock\\n4,Sapiens: A Brief History of Humankind,£54.23,Five,In stock\\n5,The Requiem Red,£22.65,One,In stock\\n6,The Dirty Little Secrets of Getting Your Dream Job,£33.34,Four,In stock\\n7,\"The Coming Woman: A Novel Based on the Life of the Infamous Feminist, Victoria Woodhull\",£17.93,Three,In stock\\n8,The Boys in the Boat: Nine Americans and Their Epic Quest for Gold at the 1936 Berlin Olympics,£22.60,Four,In stock\\n9,The Black Maria,£52.15,One,In stock\\n10,\"Starving Hearts (Triangular Trade Trilogy, #1)\",£13.99,Two,In stock\\n11,Shakespeare\\'s Sonnets,£20.66,Four,In stock\\n12,Set Me Free,£17.46,Five,In stock\\n13,Scott Pilgrim\\'s Precious Little Life (Scott Pilgrim #1),£52.29,Five,In stock\\n14,Rip it Up and Start Again,£35.02,Five,In stock\\n15,\"Our Band Could Be Your Life: Scenes from the American Indie Underground, 1981-1991\",£57.25,Three,In stock\\n16,Olio,£23.88,One,In stock\\n17,Mesaerion: The Best Science Fiction Stories 1800-1849,£37.59,One,In stock\\n18,Libertarianism for Beginners,£51.33,Two,In stock\\n19,It\\'s Only the Himalayas,£45.17,Two,In stock\\n20,In Her Wake,£12.84,One,In stock\\n21,How Music Works,£37.32,Two,In stock\\n22,\"Foolproof Preserving: A Guide to Small Batch Jams, Jellies, Pickles, Condiments, and More: A Foolproof Guide to Making Small Batch Jams, Jellies, Pickles, Condiments, and More\",£30.52,Three,In stock\\n23,Chase Me (Paris Nights #2),£25.27,Five,In stock\\n24,Black Dust,£34.53,Five,In stock\\n25,Birdsong: A Story in Pictures,£54.64,Three,In stock\\n26,America\\'s Cradle of Quarterbacks: Western Pennsylvania\\'s Football Factory from Johnny Unitas to Joe Montana,£22.50,Three,In stock\\n27,Aladdin and His Wonderful Lamp,£53.13,Three,In stock\\n28,Worlds Elsewhere: Journeys Around Shakespeare’s Globe,£40.30,Five,In stock\\n29,Wall and Piece,£44.18,Four,In stock\\n30,The Four Agreements: A Practical Guide to Personal Freedom,£17.66,Five,In stock\\n31,The Five Love Languages: How to Express Heartfelt Commitment to Your Mate,£31.05,Three,In stock\\n32,The Elephant Tree,£23.82,Five,In stock\\n33,The Bear and the Piano,£36.89,One,In stock\\n34,Sophie\\'s World,£15.94,Five,In stock\\n35,Penny Maybe,£33.29,Three,In stock\\n36,Maude (1883-1993):She Grew Up with the country,£18.02,Two,In stock\\n37,\"In a Dark, Dark Wood\",£19.63,One,In stock\\n38,Behind Closed Doors,£52.22,Four,In stock\\n39,You can\\'t bury them all: Poems,£33.63,Two,In stock\\n40,Slow States of Collapse: Poems,£57.31,Three,In stock\\n41,Reasons to Stay Alive,£26.41,Two,In stock\\n42,Private Paris (Private #10),£47.61,Five,In stock\\n43,#HigherSelfie: Wake Up Your Life. Free Your Soul. Find Your Tribe.,£23.11,Five,In stock\\n44,Without Borders (Wanderlove #1),£45.07,Two,In stock\\n45,When We Collided,£31.77,One,In stock\\n46,\"We Love You, Charlie Freeman\",£50.27,Five,In stock\\n47,Untitled Collection: Sabbath Poems 2014,£14.27,Four,In stock\\n48,\"Unseen City: The Majesty of Pigeons, the Discreet Charm of Snails & Other Wonders of the Urban Wilderness\",£44.18,Four,In stock\\n49,Unicorn Tracks,£18.78,Three,In stock\\n50,\"Unbound: How Eight Technologies Made Us Human, Transformed Society, and Brought Our World to the Brink\",£25.52,One,In stock\\n51,Tsubasa: WoRLD CHRoNiCLE 2 (Tsubasa WoRLD CHRoNiCLE #2),£16.28,One,In stock\\n52,Throwing Rocks at the Google Bus: How Growth Became the Enemy of Prosperity,£31.12,Three,In stock\\n53,This One Summer,£19.49,Four,In stock\\n54,Thirst,£17.27,Five,In stock\\n55,The Torch Is Passed: A Harding Family Story,£19.09,One,In stock\\n56,The Secret of Dreadwillow Carse,£56.13,One,In stock\\n57,\"The Pioneer Woman Cooks: Dinnertime: Comfort Classics, Freezer Food, 16-Minute Meals, and Other Delicious Ways to Solve Supper!\",£56.41,One,In stock\\n58,The Past Never Ends,£56.50,Four,In stock\\n59,The Natural History of Us (The Fine Art of Pretending #2),£45.22,Three,In stock\\n60,The Nameless City (The Nameless City #1),£38.16,Four,In stock\\n61,The Murder That Never Was (Forensic Instincts #5),£54.11,Three,In stock\\n62,The Most Perfect Thing: Inside (and Outside) a Bird\\'s Egg,£42.96,Four,In stock\\n63,\"The Mindfulness and Acceptance Workbook for Anxiety: A Guide to Breaking Free from Anxiety, Phobias, and Worry Using Acceptance and Commitment Therapy\",£23.89,Four,In stock\\n64,The Life-Changing Magic of Tidying Up: The Japanese Art of Decluttering and Organizing,£16.77,Three,In stock\\n65,\"The Inefficiency Assassin: Time Management Tactics for Working Smarter, Not Longer\",£20.59,Five,In stock\\n66,The Gutsy Girl: Escapades for Your Life of Epic Adventure,£37.13,One,In stock\\n67,The Electric Pencil: Drawings from Inside State Hospital No. 3,£56.06,One,In stock\\n68,The Death of Humanity: and the Case for Life,£58.11,Four,In stock\\n69,\"The Bulletproof Diet: Lose up to a Pound a Day, Reclaim Energy and Focus, Upgrade Your Life\",£49.05,Three,In stock\\n70,The Art Forger,£40.76,Three,In stock\\n71,The Age of Genius: The Seventeenth Century and the Birth of the Modern Mind,£19.73,One,In stock\\n72,The Activist\\'s Tao Te Ching: Ancient Advice for a Modern Revolution,£32.24,Five,In stock\\n73,Spark Joy: An Illustrated Master Class on the Art of Organizing and Tidying Up,£41.83,Four,In stock\\n74,Soul Reader,£39.58,Two,In stock\\n75,Security,£39.25,Two,In stock\\n76,\"Saga, Volume 6 (Saga (Collected Editions) #6)\",£25.02,Three,In stock\\n77,\"Saga, Volume 5 (Saga (Collected Editions) #5)\",£51.04,Two,In stock\\n78,Reskilling America: Learning to Labor in the Twenty-First Century,£19.83,Two,In stock\\n79,\"Rat Queens, Vol. 3: Demons (Rat Queens (Collected Editions) #11-15)\",£50.40,Three,In stock\\n80,\"Princess Jellyfish 2-in-1 Omnibus, Vol. 01 (Princess Jellyfish 2-in-1 Omnibus #1)\",£13.61,Five,In stock\\n81,Princess Between Worlds (Wide-Awake Princess #5),£13.34,Five,In stock\\n82,\"Pop Gun War, Volume 1: Gift\",£18.97,One,In stock\\n83,\"Political Suicide: Missteps, Peccadilloes, Bad Calls, Backroom Hijinx, Sordid Pasts, Rotten Breaks, and Just Plain Dumb Mistakes in the Annals of American Politics\",£36.28,Two,In stock\\n84,Patience,£10.16,Three,In stock\\n85,\"Outcast, Vol. 1: A Darkness Surrounds Him (Outcast #1)\",£15.44,Four,In stock\\n86,orange: The Complete Collection 1 (orange: The Complete Collection #1),£48.41,One,In stock\\n87,Online Marketing for Busy Authors: A Step-By-Step Guide,£46.35,One,In stock\\n88,On a Midnight Clear,£14.07,Three,In stock\\n89,Obsidian (Lux #1),£14.86,Two,In stock\\n90,My Paris Kitchen: Recipes and Stories,£33.37,Two,In stock\\n91,Masks and Shadows,£56.40,Two,In stock\\n92,\"Mama Tried: Traditional Italian Cooking for the Screwed, Crude, Vegan, and Tattooed\",£14.02,Four,In stock\\n93,\"Lumberjanes, Vol. 2: Friendship to the Max (Lumberjanes #5-8)\",£46.91,Two,In stock\\n94,\"Lumberjanes, Vol. 1: Beware the Kitten Holy (Lumberjanes #1-4)\",£45.61,Three,In stock\\n95,Lumberjanes Vol. 3: A Terrible Plan (Lumberjanes #9-12),£19.92,Two,In stock\\n96,\"Layered: Baking, Building, and Styling Spectacular Cakes\",£40.11,One,In stock\\n97,Judo: Seven Steps to Black Belt (an Introductory Guide for Beginners),£53.90,Two,In stock\\n98,Join,£35.67,Five,In stock\\n99,In the Country We Love: My Family Divided,£22.00,Four,In stock\\n100,Immunity: How Elie Metchnikoff Changed the Course of Modern Medicine,£57.36,Five,In stock\\n101,\"I Hate Fairyland, Vol. 1: Madly Ever After (I Hate Fairyland (Compilations) #1-5)\",£29.17,Two,In stock\\n102,I am a Hero Omnibus Volume 1,£54.63,Three,In stock\\n103,How to Be Miserable: 40 Strategies You Already Use,£46.03,One,In stock\\n104,Her Backup Boyfriend (The Sorensen Family #1),£33.97,One,In stock\\n105,\"Giant Days, Vol. 2 (Giant Days #5-8)\",£22.11,Two,In stock\\n106,Forever and Forever: The Courtship of Henry Longfellow and Fanny Appleton,£29.69,Three,In stock\\n107,First and First (Five Boroughs #3),£15.97,Four,In stock\\n108,Fifty Shades Darker (Fifty Shades #2),£21.96,One,In stock\\n109,Everydata: The Misinformation Hidden in the Little Data You Consume Every Day,£54.35,Two,In stock\\n110,\"Don\\'t Be a Jerk: And Other Practical Advice from Dogen, Japan\\'s Greatest Zen Master\",£37.97,Two,In stock\\n111,Danganronpa Volume 1,£51.99,Four,In stock\\n112,Crown of Midnight (Throne of Glass #2),£43.29,Three,In stock\\n113,\"Codename Baboushka, Volume 1: The Conclave of Death\",£36.72,Four,In stock\\n114,Camp Midnight,£17.08,Four,In stock\\n115,Call the Nurse: True Stories of a Country Nurse on a Scottish Isle,£29.14,Five,In stock\\n116,Burning,£28.81,Three,In stock\\n117,Bossypants,£49.46,Two,In stock\\n118,\"Bitch Planet, Vol. 1: Extraordinary Machine (Bitch Planet (Collected Editions))\",£37.92,Two,In stock\\n119,\"Avatar: The Last Airbender: Smoke and Shadow, Part 3 (Smoke and Shadow #3)\",£28.09,Two,In stock\\n120,Algorithms to Live By: The Computer Science of Human Decisions,£30.81,One,In stock\\n121,A World of Flavor: Your Gluten Free Passport,£42.95,One,In stock\\n122,\"A Piece of Sky, a Grain of Rice: A Memoir in Four Meditations\",£56.76,Five,In stock\\n123,A Murder in Time,£16.64,One,In stock\\n124,A Flight of Arrows (The Pathfinders #2),£55.53,Five,In stock\\n125,A Fierce and Subtle Poison,£28.13,Four,In stock\\n126,A Court of Thorns and Roses (A Court of Thorns and Roses #1),£52.37,One,In stock\\n127,(Un)Qualified: How God Uses Broken People to Do Big Things,£54.00,Five,In stock\\n128,You Are What You Love: The Spiritual Power of Habit,£21.87,Four,In stock\\n129,\"William Shakespeare\\'s Star Wars: Verily, A New Hope (William Shakespeare\\'s Star Wars #4)\",£43.30,Four,In stock\\n130,Tuesday Nights in 1980,£21.04,Two,In stock\\n131,Tracing Numbers on a Train,£41.60,Three,In stock\\n132,Throne of Glass (Throne of Glass #1),£35.07,Three,In stock\\n133,Thomas Jefferson and the Tripoli Pirates: The Forgotten War That Changed American History,£59.64,One,In stock\\n134,Thirteen Reasons Why,£52.72,One,In stock\\n135,The White Cat and the Monk: A Retelling of the Poem “Pangur Bán”,£58.08,Four,In stock\\n136,The Wedding Dress,£24.12,One,In stock\\n137,The Vacationers,£42.15,Four,In stock\\n138,The Third Wave: An Entrepreneur’s Vision of the Future,£12.61,Five,In stock\\n139,The Stranger,£17.44,Four,In stock\\n140,The Shadow Hero (The Shadow Hero),£33.14,One,In stock\\n141,The Secret (The Secret #1),£27.37,Four,In stock\\n142,The Regional Office Is Under Attack!,£51.36,Five,In stock\\n143,The Psychopath Test: A Journey Through the Madness Industry,£36.00,Two,In stock\\n144,The Project,£10.65,One,In stock\\n145,The Power of Now: A Guide to Spiritual Enlightenment,£43.54,Two,In stock\\n146,The Omnivore\\'s Dilemma: A Natural History of Four Meals,£38.21,Two,In stock\\n147,The Nerdy Nummies Cookbook: Sweet Treats for the Geek in All of Us,£37.34,Five,In stock\\n148,The Murder of Roger Ackroyd (Hercule Poirot #4),£44.10,Four,In stock\\n149,The Mistake (Off-Campus #2),£43.29,Three,In stock\\n150,The Matchmaker\\'s Playbook (Wingmen Inc. #1),£55.85,One,In stock\\n151,The Love and Lemons Cookbook: An Apple-to-Zucchini Celebration of Impromptu Cooking,£37.60,Two,In stock\\n152,The Long Shadow of Small Ghosts: Murder and Memory in an American City,£10.97,One,In stock\\n153,The Kite Runner,£41.82,Four,In stock\\n154,The House by the Lake,£36.95,One,In stock\\n155,The Glittering Court (The Glittering Court #1),£44.28,One,In stock\\n156,The Girl on the Train,£55.02,Two,In stock\\n157,The Genius of Birds,£17.24,One,In stock\\n158,The Emerald Mystery,£23.15,Two,In stock\\n159,The Cookies & Cups Cookbook: 125+ sweet & savory recipes reminding you to Always Eat Dessert First,£41.25,One,In stock\\n160,The Bridge to Consciousness: I\\'m Writing the Bridge Between Science and Our Old and New Beliefs.,£32.00,Three,In stock\\n161,The Artist\\'s Way: A Spiritual Path to Higher Creativity,£38.49,Five,In stock\\n162,The Art of War,£33.34,Five,In stock\\n163,The Argonauts,£10.93,Two,In stock\\n164,The 10% Entrepreneur: Live Your Startup Dream Without Quitting Your Day Job,£27.55,Three,In stock\\n165,Suddenly in Love (Lake Haven #1),£55.99,Two,In stock\\n166,Something More Than This,£16.24,Four,In stock\\n167,Soft Apocalypse,£26.12,Two,In stock\\n168,So You\\'ve Been Publicly Shamed,£12.23,Two,In stock\\n169,Shoe Dog: A Memoir by the Creator of NIKE,£23.99,Two,In stock\\n170,\"Shobu Samurai, Project Aryoku (#3)\",£29.06,Three,In stock\\n171,Secrets and Lace (Fatal Hearts #1),£20.27,One,In stock\\n172,Scarlett Epstein Hates It Here,£43.55,Five,In stock\\n173,Romero and Juliet: A Tragic Tale of Love and Zombies,£36.94,One,In stock\\n174,Redeeming Love,£20.47,Five,In stock\\n175,Poses for Artists Volume 1 - Dynamic and Sitting Poses: An Essential Reference for Figure Drawing and the Human Form,£41.06,One,In stock\\n176,Poems That Make Grown Women Cry,£14.19,Four,In stock\\n177,\"Nightingale, Sing\",£38.28,One,In stock\\n178,Night Sky with Exit Wounds,£41.05,One,In stock\\n179,Mrs. Houdini,£30.25,Five,In stock\\n180,Modern Romance,£28.26,Five,In stock\\n181,Miss Peregrine’s Home for Peculiar Children (Miss Peregrine’s Peculiar Children #1),£10.76,One,In stock\\n182,Louisa: The Extraordinary Life of Mrs. Adams,£16.85,Two,In stock\\n183,Little Red,£13.47,Three,In stock\\n184,Library of Souls (Miss Peregrine’s Peculiar Children #3),£48.56,Five,In stock\\n185,Large Print Heart of the Pride,£19.15,Two,In stock\\n186,I Had a Nice Time And Other Lies...: How to find love & sh*t like that,£57.36,Four,In stock\\n187,Hollow City (Miss Peregrine’s Peculiar Children #2),£42.98,One,In stock\\n188,Grumbles,£22.16,Two,In stock\\n189,Full Moon over Noah’s Ark: An Odyssey to Mount Ararat and Beyond,£49.43,Four,In stock\\n190,Frostbite (Vampire Academy #2),£29.99,Five,In stock\\n191,Follow You Home,£21.36,One,In stock\\n192,First Steps for New Christians (Print Edition),£29.00,One,In stock\\n193,Finders Keepers (Bill Hodges Trilogy #2),£53.53,Five,In stock\\n194,\"Fables, Vol. 1: Legends in Exile (Fables #1)\",£41.62,Four,In stock\\n195,Eureka Trivia 6.0,£54.59,Four,In stock\\n196,Drive: The Surprising Truth About What Motivates Us,£34.95,Four,In stock\\n197,Done Rubbed Out (Reightman & Bailey #1),£37.72,Five,In stock\\n198,Doing It Over (Most Likely To #1),£35.61,Three,In stock\\n199,\"Deliciously Ella Every Day: Quick and Easy Recipes for Gluten-Free Snacks, Packed Lunches, and Simple Meals\",£42.16,Three,In stock\\n200,Dark Notes,£19.19,Five,In stock\\n201,\"Daring Greatly: How the Courage to Be Vulnerable Transforms the Way We Live, Love, Parent, and Lead\",£19.43,Three,In stock\\n202,Close to You,£49.46,Four,In stock\\n203,Chasing Heaven: What Dying Taught Me About Living,£37.80,Two,In stock\\n204,Big Magic: Creative Living Beyond Fear,£30.80,Three,In stock\\n205,Becoming Wise: An Inquiry into the Mystery and Art of Living,£27.43,Two,In stock\\n206,Beauty Restored (Riley Family Legacy Novellas #3),£11.11,Two,In stock\\n207,Batman: The Long Halloween (Batman),£36.50,Two,In stock\\n208,Batman: The Dark Knight Returns (Batman),£15.38,Five,In stock\\n209,Ayumi\\'s Violin,£15.48,Two,In stock\\n210,Anonymous,£46.82,Four,In stock\\n211,Amy Meets the Saints and Sages,£18.46,Three,In stock\\n212,Amid the Chaos,£36.58,One,In stock\\n213,Amatus,£50.54,Five,In stock\\n214,Agnostic: A Spirited Manifesto,£12.51,Five,In stock\\n215,Zealot: The Life and Times of Jesus of Nazareth,£24.70,Three,In stock\\n216,You (You #1),£43.61,Five,In stock\\n217,\"Wonder Woman: Earth One, Volume One (Wonder Woman: Earth One #1)\",£37.34,Four,In stock\\n218,Wild Swans,£14.36,Two,In stock\\n219,Why the Right Went Wrong: Conservatism--From Goldwater to the Tea Party and Beyond,£52.65,Four,In stock\\n220,Whole Lotta Creativity Going On: 60 Fun and Unusual Exercises to Awaken and Strengthen Your Creativity,£38.20,Four,In stock\\n221,What\\'s It Like in Space?: Stories from Astronauts Who\\'ve Been There,£19.60,Two,In stock\\n222,\"We Are Robin, Vol. 1: The Vigilante Business (We Are Robin #1)\",£53.90,One,In stock\\n223,Walt Disney\\'s Alice in Wonderland,£12.96,Five,In stock\\n224,V for Vendetta (V for Vendetta Complete),£37.10,Four,In stock\\n225,Until Friday Night (The Field Party #1),£46.31,Two,In stock\\n226,\"Unbroken: A World War II Story of Survival, Resilience, and Redemption\",£45.95,Two,In stock\\n227,Twenty Yawns,£22.08,Two,In stock\\n228,Through the Woods,£25.38,Two,In stock\\n229,This Is Where It Ends,£27.12,Two,In stock\\n230,The Year of Magical Thinking,£43.04,Two,In stock\\n231,The Wright Brothers,£56.80,Four,In stock\\n232,The White Queen (The Cousins\\' War #1),£25.91,Five,In stock\\n233,The Wedding Pact (The O\\'Malleys #2),£32.61,Three,In stock\\n234,The Time Keeper,£27.88,Five,In stock\\n235,The Testament of Mary,£52.67,Four,In stock\\n236,The Star-Touched Queen,£46.02,Five,In stock\\n237,The Songs of the Gods,£44.48,Five,In stock\\n238,The Song of Achilles,£37.40,Five,In stock\\n239,The Rosie Project (Don Tillman #1),£54.04,One,In stock\\n240,The Power of Habit: Why We Do What We Do in Life and Business,£16.88,Three,In stock\\n241,The Marriage of Opposites,£28.08,Four,In stock\\n242,The Lucifer Effect: Understanding How Good People Turn Evil,£10.40,One,In stock\\n243,The Long Haul (Diary of a Wimpy Kid #9),£44.07,One,In stock\\n244,The Loney,£23.40,One,In stock\\n245,The Literature Book (Big Ideas Simply Explained),£17.43,Three,In stock\\n246,The Last Mile (Amos Decker #2),£54.21,Two,In stock\\n247,The Immortal Life of Henrietta Lacks,£40.67,Two,In stock\\n248,The Hidden Oracle (The Trials of Apollo #1),£52.26,Two,In stock\\n249,The Help Yourself Cookbook for Kids: 60 Easy Plant-Based Recipes Kids Can Make to Stay Healthy and Save the Earth,£28.77,Three,In stock\\n250,The Guilty (Will Robie #4),£13.82,Two,In stock\\n251,The First Hostage (J.B. Collins #2),£25.85,Three,In stock\\n252,The Dovekeepers,£48.78,One,In stock\\n253,The Darkest Lie,£35.35,Five,In stock\\n254,The Bane Chronicles (The Bane Chronicles #1-11),£44.73,Four,In stock\\n255,The Bad-Ass Librarians of Timbuktu: And Their Race to Save the World’s Most Precious Manuscripts,£15.77,One,In stock\\n256,The 14th Colony (Cotton Malone #11),£39.24,One,In stock\\n257,That Darkness (Gardiner and Renner #1),£13.92,One,In stock\\n258,Tastes Like Fear (DI Marnie Rome #3),£10.69,One,In stock\\n259,Take Me with You,£45.21,Three,In stock\\n260,Swell: A Year of Waves,£45.58,One,In stock\\n261,Superman Vol. 1: Before Truth (Superman by Gene Luen Yang #1),£11.89,Five,In stock\\n262,Still Life with Bread Crumbs,£26.41,Three,In stock\\n263,Steve Jobs,£39.50,Five,In stock\\n264,Sorting the Beef from the Bull: The Science of Food Fraud Forensics,£44.74,Four,In stock\\n265,Someone Like You (The Harrisons #2),£52.79,Five,In stock\\n266,\"So Cute It Hurts!!, Vol. 6 (So Cute It Hurts!! #6)\",£35.43,Four,In stock\\n267,Shtum,£55.84,Four,In stock\\n268,See America: A Celebration of Our National Parks & Treasured Sites,£48.87,Three,In stock\\n269,salt.,£46.78,Four,In stock\\n270,Robin War,£47.82,Three,In stock\\n271,\"Red Hood/Arsenal, Vol. 1: Open for Business (Red Hood/Arsenal #1)\",£25.48,Two,In stock\\n272,Rain Fish,£23.57,Three,In stock\\n273,\"Quarter Life Poetry: Poems for the Young, Broke and Hangry\",£50.89,Five,In stock\\n274,Pet Sematary,£10.56,Three,In stock\\n275,\"Overload: How to Unplug, Unwind, and Unleash Yourself from the Pressure of Stress\",£52.15,Three,In stock\\n276,Once Was a Time,£18.28,Two,In stock\\n277,Old School (Diary of a Wimpy Kid #10),£11.83,Five,In stock\\n278,No Dream Is Too High: Life Lessons From a Man Who Walked on the Moon,£21.95,Two,In stock\\n279,\"Naruto (3-in-1 Edition), Vol. 14: Includes Vols. 40, 41 & 42 (Naruto: Omnibus #14)\",£38.39,Two,In stock\\n280,My Name Is Lucy Barton,£41.56,One,In stock\\n281,My Mrs. Brown,£24.48,Three,In stock\\n282,My Kind of Crazy,£40.36,One,In stock\\n283,Mr. Mercedes (Bill Hodges Trilogy #1),£28.90,One,In stock\\n284,More Than Music (Chasing the Dream #1),£37.61,Two,In stock\\n285,Made to Stick: Why Some Ideas Survive and Others Die,£38.85,Five,In stock\\n286,Luis Paints the World,£53.95,Three,In stock\\n287,Luckiest Girl Alive,£49.83,Three,In stock\\n288,Lowriders to the Center of the Earth (Lowriders in Space #2),£51.51,Two,In stock\\n289,Love Is a Mix Tape (Music #1),£18.03,One,In stock\\n290,Looking for Lovely: Collecting the Moments that Matter,£29.14,Five,In stock\\n291,\"Living Leadership by Insight: A Good Leader Achieves, a Great Leader Builds Monuments\",£46.91,Four,In stock\\n292,Let It Out: A Journey Through Journaling,£26.79,Five,In stock\\n293,Lady Midnight (The Dark Artifices #1),£16.28,Five,In stock\\n294,\"It\\'s All Easy: Healthy, Delicious Weeknight Meals in under 30 Minutes\",£19.55,One,In stock\\n295,Island of Dragons (Unwanteds #7),£29.65,One,In stock\\n296,I Know What I\\'m Doing -- and Other Lies I Tell Myself: Dispatches from a Life Under Construction,£25.98,Four,In stock\\n297,I Am Pilgrim (Pilgrim #1),£10.60,Four,In stock\\n298,\"Hyperbole and a Half: Unfortunate Situations, Flawed Coping Mechanisms, Mayhem, and Other Things That Happened\",£14.75,Five,In stock\\n299,\"Hush, Hush (Hush, Hush #1)\",£47.02,Three,In stock\\n300,Hold Your Breath (Search and Rescue #1),£28.82,One,In stock\\n301,Hamilton: The Revolution,£58.79,Three,In stock\\n302,Greek Mythic History,£10.23,Five,In stock\\n303,God: The Most Unpleasant Character in All Fiction,£30.03,Five,In stock\\n304,Glory over Everything: Beyond The Kitchen House,£45.84,Three,In stock\\n305,Feathers: Displays of Brilliant Plumage,£49.05,Three,In stock\\n306,\"Far & Away: Places on the Brink of Change: Seven Continents, Twenty-Five Years\",£15.06,Four,In stock\\n307,Every Last Word,£46.47,Three,In stock\\n308,Eligible (The Austen Project #4),£27.09,Three,In stock\\n309,El Deafo,£57.62,Five,In stock\\n310,Eight Hundred Grapes,£14.39,Four,In stock\\n311,\"Eaternity: More than 150 Deliciously Easy Vegan Recipes for a Long, Healthy, Satisfied, Joyful Life\",£51.75,Five,In stock\\n312,\"Eat Fat, Get Thin\",£54.07,Two,In stock\\n313,Don\\'t Get Caught,£55.35,One,In stock\\n314,Doctor Sleep (The Shining #2),£40.12,Two,In stock\\n315,Demigods & Magicians: Percy and Annabeth Meet the Kanes (Percy Jackson & Kane Chronicles Crossover #1-3),£37.51,Five,In stock\\n316,Dear Mr. Knightley,£11.21,Five,In stock\\n317,Daily Fantasy Sports,£36.58,One,In stock\\n318,Crazy Love: Overwhelmed by a Relentless God,£47.72,Two,In stock\\n319,Cometh the Hour (The Clifton Chronicles #6),£25.01,Three,In stock\\n320,Code Name Verity (Code Name Verity #1),£22.13,Four,In stock\\n321,Clockwork Angel (The Infernal Devices #1),£44.14,One,In stock\\n322,City of Glass (The Mortal Instruments #3),£56.02,Four,In stock\\n323,City of Fallen Angels (The Mortal Instruments #4),£11.23,Four,In stock\\n324,City of Bones (The Mortal Instruments #1),£43.28,One,In stock\\n325,City of Ashes (The Mortal Instruments #2),£47.27,One,In stock\\n326,Cell,£20.29,Four,In stock\\n327,Catching Jordan (Hundred Oaks),£50.83,Three,In stock\\n328,\"Carry On, Warrior: Thoughts on Life Unarmed\",£31.85,Three,In stock\\n329,Carrie,£46.23,Two,In stock\\n330,Buying In: The Secret Dialogue Between What We Buy and Who We Are,£37.80,Four,In stock\\n331,Brain on Fire: My Month of Madness,£49.32,Five,In stock\\n332,Batman: Europa,£32.01,Two,In stock\\n333,Barefoot Contessa Back to Basics,£28.01,One,In stock\\n334,Barefoot Contessa at Home: Everyday Recipes You\\'ll Make Over and Over Again,£50.62,Five,In stock\\n335,Balloon Animals,£17.03,Three,In stock\\n336,Art Ops Vol. 1,£48.80,Three,In stock\\n337,Aristotle and Dante Discover the Secrets of the Universe (Aristotle and Dante Discover the Secrets of the Universe #1),£58.14,Four,In stock\\n338,Angels Walking (Angels Walking #1),£34.20,Two,In stock\\n339,Angels & Demons (Robert Langdon #1),£51.48,Three,In stock\\n340,All the Light We Cannot See,£29.87,Five,In stock\\n341,\"Adulthood Is a Myth: A \"\"Sarah\\'s Scribbles\"\" Collection\",£10.90,Two,In stock\\n342,Abstract City,£56.37,Five,In stock\\n343,A Time of Torment (Charlie Parker #14),£48.35,Five,In stock\\n344,A Study in Scarlet (Sherlock Holmes #1),£16.73,Two,In stock\\n345,\"A Series of Catastrophes and Miracles: A True Story of Love, Science, and Cancer\",£56.48,Two,In stock\\n346,A People\\'s History of the United States,£40.79,Two,In stock\\n347,A Man Called Ove,£39.72,One,In stock\\n348,A Distant Mirror: The Calamitous 14th Century,£14.58,Three,In stock\\n349,A Brush of Wings (Angels Walking #3),£55.51,One,In stock\\n350,1491: New Revelations of the Americas Before Columbus,£21.80,Three,In stock\\n351,\"The Three Searches, Meaning, and the Story\",£13.33,Three,In stock\\n352,Searching for Meaning in Gailana,£38.73,One,In stock\\n353,Rook,£37.86,Four,In stock\\n354,My Kitchen Year: 136 Recipes That Saved My Life,£11.53,Two,In stock\\n355,13 Hours: The Inside Account of What Really Happened In Benghazi,£27.06,One,In stock\\n356,Will You Won\\'t You Want Me?,£13.86,Three,In stock\\n357,Tipping Point for Planet Earth: How Close Are We to the Edge?,£37.55,One,In stock\\n358,The Star-Touched Queen,£32.30,Five,In stock\\n359,The Silent Sister (Riley MacPherson #1),£46.29,Five,In stock\\n360,The Midnight Watch: A Novel of the Titanic and the Californian,£26.20,One,In stock\\n361,The Lonely City: Adventures in the Art of Being Alone,£33.26,Two,In stock\\n362,The Gray Rhino: How to Recognize and Act on the Obvious Dangers We Ignore,£59.15,Four,In stock\\n363,The Golden Condom: And Other Essays on Love Lost and Found,£39.43,One,In stock\\n364,The Epidemic (The Program 0.6),£14.44,Five,In stock\\n365,The Dinner Party,£56.54,Two,In stock\\n366,The Diary of a Young Girl,£59.90,Three,In stock\\n367,The Children,£11.88,Three,In stock\\n368,Stars Above (The Lunar Chronicles #4.5),£48.05,Two,In stock\\n369,Snatched: How A Drug Queen Went Undercover for the DEA and Was Kidnapped By Colombian Guerillas,£21.21,Three,In stock\\n370,Raspberry Pi Electronics Projects for the Evil Genius,£49.67,Four,In stock\\n371,Quench Your Own Thirst: Business Lessons Learned Over a Beer or Two,£43.14,One,In stock\\n372,Psycho: Sanitarium (Psycho #1.5),£36.97,Five,In stock\\n373,Poisonous (Max Revere Novels #3),£26.80,Three,In stock\\n374,One with You (Crossfire #5),£15.71,Four,In stock\\n375,No Love Allowed (Dodge Cove #1),£54.65,Four,In stock\\n376,Murder at the 42nd Street Library (Raymond Ambler #1),£54.36,Four,In stock\\n377,Most Wanted,£35.28,Three,In stock\\n378,\"Love, Lies and Spies\",£20.55,Two,In stock\\n379,How to Speak Golf: An Illustrated Guide to Links Lingo,£58.32,Five,In stock\\n380,Hide Away (Eve Duncan #20),£11.84,One,In stock\\n381,Furiously Happy: A Funny Book About Horrible Things,£41.46,Four,In stock\\n382,Everyday Italian: 125 Simple and Delicious Recipes,£20.10,Five,In stock\\n383,Equal Is Unfair: America\\'s Misguided Fight Against Income Inequality,£56.86,One,In stock\\n384,Eleanor & Park,£56.51,Five,In stock\\n385,Dirty (Dive Bar #1),£40.83,Four,In stock\\n386,Can You Keep a Secret? (Fear Street Relaunch #4),£48.64,One,In stock\\n387,Boar Island (Anna Pigeon #19),£59.48,Three,In stock\\n388,A Paris Apartment,£39.01,Four,In stock\\n389,\"A la Mode: 120 Recipes in 60 Pairings: Pies, Tarts, Cakes, Crisps, and More Topped with Ice Cream, Gelato, Frozen Custard, and More\",£38.77,One,In stock\\n390,Troublemaker: Surviving Hollywood and Scientology,£48.39,Two,In stock\\n391,The Widow,£27.26,Two,In stock\\n392,\"The Sleep Revolution: Transforming Your Life, One Night at a Time\",£11.68,Four,In stock\\n393,The Improbability of Love,£59.45,One,In stock\\n394,The Art of Startup Fundraising,£21.00,Three,In stock\\n395,Take Me Home Tonight (Rock Star Romance #3),£53.98,Three,In stock\\n396,Sleeping Giants (Themis Files #1),£48.74,One,In stock\\n397,\"Setting the World on Fire: The Brief, Astonishing Life of St. Catherine of Siena\",£21.15,Two,In stock\\n398,Playing with Fire,£13.71,Three,In stock\\n399,Off the Hook (Fishing for Trouble #1),£47.67,Three,In stock\\n400,Mothering Sunday,£13.34,Two,In stock\\n401,\"Mother, Can You Not?\",£16.89,Five,In stock\\n402,M Train,£27.18,One,In stock\\n403,Lilac Girls,£17.28,Two,In stock\\n404,Lies and Other Acts of Love,£45.14,One,In stock\\n405,Lab Girl,£40.85,One,In stock\\n406,Keep Me Posted,£20.46,Four,In stock\\n407,It Didn\\'t Start with You: How Inherited Family Trauma Shapes Who We Are and How to End the Cycle,£56.27,Three,In stock\\n408,Grey (Fifty Shades #4),£48.49,Four,In stock\\n409,\"Exit, Pursued by a Bear\",£51.34,Four,In stock\\n410,Daredevils,£16.34,Three,In stock\\n411,Cravings: Recipes for What You Want to Eat,£20.50,Three,In stock\\n412,Born for This: How to Find the Work You Were Meant to Do,£21.59,Five,In stock\\n413,Arena,£21.36,Four,In stock\\n414,Adultery,£20.88,Five,In stock\\n415,A Mother\\'s Reckoning: Living in the Aftermath of Tragedy,£19.53,Three,In stock\\n416,A Gentleman\\'s Position (Society of Gentlemen #3),£14.75,Five,In stock\\n417,11/22/63,£48.48,Three,In stock\\n418,\"10% Happier: How I Tamed the Voice in My Head, Reduced Stress Without Losing My Edge, and Found Self-Help That Actually Works\",£24.57,Two,In stock\\n419,10-Day Green Smoothie Cleanse: Lose Up to 15 Pounds in 10 Days!,£49.71,Five,In stock\\n420,Without Shame,£48.27,Five,In stock\\n421,Watchmen,£58.05,Four,In stock\\n422,Unlimited Intuition Now,£58.87,Four,In stock\\n423,Underlying Notes,£11.82,Two,In stock\\n424,The Shack,£28.03,One,In stock\\n425,The New Brand You: Your New Image Makes the Sale for You,£44.05,Five,In stock\\n426,\"The Moosewood Cookbook: Recipes from Moosewood Restaurant, Ithaca, New York\",£12.34,Four,In stock\\n427,The Flowers Lied,£16.68,Two,In stock\\n428,\"The Fabric of the Cosmos: Space, Time, and the Texture of Reality\",£55.91,One,In stock\\n429,The Book of Mormon,£24.57,Three,In stock\\n430,The Art and Science of Low Carbohydrate Living,£52.98,Five,In stock\\n431,The Alien Club,£54.40,One,In stock\\n432,Suzie Snowflake: One beautiful flake (a self-esteem story),£54.81,Five,In stock\\n433,Nap-a-Roo,£25.08,One,In stock\\n434,\"NaNo What Now? Finding your editing process, revising your NaNoWriMo book and building a writing career through publishing and beyond\",£10.41,Four,In stock\\n435,Modern Day Fables,£47.44,Two,In stock\\n436,If I Gave You God\\'s Phone Number....: Searching for Spirituality in America,£20.91,One,In stock\\n437,\"Fruits Basket, Vol. 9 (Fruits Basket #9)\",£33.95,Four,In stock\\n438,Dress Your Family in Corduroy and Denim,£43.68,Three,In stock\\n439,Don\\'t Forget Steven,£33.23,One,In stock\\n440,Chernobyl 01:23:40: The Incredible True Story of the World\\'s Worst Nuclear Disaster,£35.92,Two,In stock\\n441,Art and Fear: Observations on the Perils (and Rewards) of Artmaking,£48.63,Four,In stock\\n442,A Shard of Ice (The Black Symphony Saga #1),£56.63,Three,In stock\\n443,A Hero\\'s Curse (The Unseen Chronicles #1),£50.49,Three,In stock\\n444,23 Degrees South: A Tropical Tale of Changing Whether...,£35.79,Two,In stock\\n445,\"Zero to One: Notes on Startups, or How to Build the Future\",£34.06,Three,In stock\\n446,Why Not Me?,£17.76,One,In stock\\n447,When Breath Becomes Air,£39.36,Two,In stock\\n448,Vagabonding: An Uncommon Guide to the Art of Long-Term World Travel,£36.94,Two,In stock\\n449,The Unlikely Pilgrimage of Harold Fry (Harold Fry #1),£43.62,Five,In stock\\n450,The New Drawing on the Right Side of the Brain,£43.02,Three,In stock\\n451,\"The Midnight Assassin: Panic, Scandal, and the Hunt for America\\'s First Serial Killer\",£28.45,Four,In stock\\n452,The Martian (The Martian #1),£41.39,Two,In stock\\n453,The High Mountains of Portugal,£51.15,One,In stock\\n454,The Grownup,£35.88,One,In stock\\n455,The E-Myth Revisited: Why Most Small Businesses Don\\'t Work and What to Do About It,£36.91,One,In stock\\n456,South of Sunshine,£28.93,One,In stock\\n457,Smarter Faster Better: The Secrets of Being Productive in Life and Business,£38.89,Five,In stock\\n458,Silence in the Dark (Logan Point #4),£58.33,Three,In stock\\n459,Shadows of the Past (Logan Point #1),£39.67,Five,In stock\\n460,Roller Girl,£14.10,Five,In stock\\n461,Rising Strong,£21.82,Three,In stock\\n462,Proofs of God: Classical Arguments from Tertullian to Barth,£54.21,One,In stock\\n463,Please Kill Me: The Uncensored Oral History of Punk,£31.19,Four,In stock\\n464,Out of Print: City Lights Spotlight No. 14,£53.64,Five,In stock\\n465,My Life Next Door (My Life Next Door ),£36.39,Five,In stock\\n466,Miller\\'s Valley,£58.54,Two,In stock\\n467,Man\\'s Search for Meaning,£29.48,Three,In stock\\n468,\"Love That Boy: What Two Presidents, Eight Road Trips, and My Son Taught Me About a Parent\\'s Expectations\",£25.06,Two,In stock\\n469,Living Forward: A Proven Plan to Stop Drifting and Get the Life You Want,£12.55,Three,In stock\\n470,Les Fleurs du Mal,£29.04,Five,In stock\\n471,Left Behind (Left Behind #1),£40.72,Two,In stock\\n472,Kill \\'Em and Leave: Searching for James Brown and the American Soul,£45.05,Five,In stock\\n473,Kierkegaard: A Christian Missionary to Christians,£47.13,One,In stock\\n474,John Vassos: Industrial Design for Modern Life,£20.22,Four,In stock\\n475,I\\'ll Give You the Sun,£56.48,One,In stock\\n476,I Will Find You,£44.21,One,In stock\\n477,Hystopia: A Novel,£21.96,Four,In stock\\n478,Howl and Other Poems,£40.45,Two,In stock\\n479,History of Beauty,£10.29,Four,In stock\\n480,Heaven is for Real: A Little Boy\\'s Astounding Story of His Trip to Heaven and Back,£52.86,Two,In stock\\n481,Future Shock (Future Shock #1),£55.65,Five,In stock\\n482,Ender\\'s Game (The Ender Quintet #1),£43.64,One,In stock\\n483,Diary of a Citizen Scientist: Chasing Tiger Beetles and Other New Ways of Engaging the World,£28.41,One,In stock\\n484,Death by Leisure: A Cautionary Tale,£37.51,Four,In stock\\n485,Brilliant Beacons: A History of the American Lighthouse,£11.45,Three,In stock\\n486,Brazen: The Courage to Find the You That\\'s Been Hiding,£19.22,Two,In stock\\n487,Between the World and Me,£56.91,Four,In stock\\n488,Being Mortal: Medicine and What Matters in the End,£55.06,Four,In stock\\n489,\"A Murder Over a Girl: Justice, Gender, Junior High\",£13.20,Three,In stock\\n490,32 Yolks,£53.63,Two,In stock\\n491,\"\"\"Most Blessed of the Patriarchs\"\": Thomas Jefferson and the Empire of the Imagination\",£44.48,Five,In stock\\n492,You Are a Badass: How to Stop Doubting Your Greatness and Start Living an Awesome Life,£12.08,Three,In stock\\n493,Wildlife of New York: A Five-Borough Coloring Book,£22.14,Two,In stock\\n494,What Happened on Beale Street (Secrets of the South Mysteries #2),£25.37,Five,In stock\\n495,Unreasonable Hope: Finding Faith in the God Who Brings Purpose to Your Pain,£46.33,Two,In stock\\n496,Under the Tuscan Sun,£37.33,Three,In stock\\n497,Toddlers Are A**holes: It\\'s Not Your Fault,£25.55,One,In stock\\n498,The Year of Living Biblically: One Man\\'s Humble Quest to Follow the Bible as Literally as Possible,£34.72,One,In stock\\n499,The Whale,£35.96,Four,In stock\\n500,The Story of Art,£41.14,Four,In stock\\n501,The Origin of Species,£10.01,Four,In stock\\n502,The Great Gatsby,£36.05,Four,In stock\\n503,The Good Girl,£49.03,Three,In stock\\n504,The Glass Castle,£16.24,One,In stock\\n505,The Faith of Christopher Hitchens: The Restless Soul of the World\\'s Most Notorious Atheist,£39.55,One,In stock\\n506,The Drowning Girls,£35.67,Three,In stock\\n507,The Constant Princess (The Tudor Court #1),£16.62,Three,In stock\\n508,The Bourne Identity (Jason Bourne #1),£42.78,Four,In stock\\n509,The Bachelor Girl\\'s Guide to Murder (Herringford and Watts Mysteries #1),£52.30,Five,In stock\\n510,The Art Book,£32.34,Two,In stock\\n511,The 7 Habits of Highly Effective People: Powerful Lessons in Personal Change,£33.17,Four,In stock\\n512,Team of Rivals: The Political Genius of Abraham Lincoln,£20.12,Five,In stock\\n513,Steal Like an Artist: 10 Things Nobody Told You About Being Creative,£20.90,Two,In stock\\n514,\"Sit, Stay, Love\",£20.90,Three,In stock\\n515,Sister Dear,£40.20,Four,In stock\\n516,\"Shrunken Treasures: Literary Classics, Short, Sweet, and Silly\",£52.87,Three,In stock\\n517,\"Rich Dad, Poor Dad\",£51.74,One,In stock\\n518,Raymie Nightingale,£34.41,Two,In stock\\n519,Playing from the Heart,£32.38,One,In stock\\n520,Nightstruck: A Novel,£50.35,Four,In stock\\n521,\"Naturally Lean: 125 Nourishing Gluten-Free, Plant-Based Recipes--All Under 300 Calories\",£11.38,Five,In stock\\n522,Meternity,£43.58,Three,In stock\\n523,Memoirs of a Geisha,£49.67,Three,In stock\\n524,Like Never Before (Walker Family #2),£28.77,Two,In stock\\n525,Life of Pi,£13.22,Four,In stock\\n526,Leave This Song Behind: Teen Poetry at Its Best,£51.17,Five,In stock\\n527,King\\'s Folly (The Kinsman Chronicles #1),£39.61,Five,In stock\\n528,John Adams,£57.43,Four,In stock\\n529,How to Cook Everything Vegetarian: Simple Meatless Recipes for Great Food (How to Cook Everything),£46.01,Four,In stock\\n530,How to Be a Domestic Goddess: Baking and the Art of Comfort Cooking,£28.25,Two,In stock\\n531,Good in Bed (Cannie Shapiro #1),£37.05,Five,In stock\\n532,\"Fruits Basket, Vol. 7 (Fruits Basket #7)\",£19.57,One,In stock\\n533,For the Love: Fighting for Grace in a World of Impossible Standards,£45.13,Three,In stock\\n534,Finding God in the Ruins: How God Redeems Pain,£46.64,Two,In stock\\n535,Every Heart a Doorway (Every Heart A Doorway #1),£12.16,Five,In stock\\n536,Delivering the Truth (Quaker Midwife Mystery #1),£20.89,Four,In stock\\n537,Counted With the Stars (Out from Egypt #1),£17.97,Five,In stock\\n538,\"Chronicles, Vol. 1\",£52.60,Two,In stock\\n539,Blue Like Jazz: Nonreligious Thoughts on Christian Spirituality,£25.77,One,In stock\\n540,Benjamin Franklin: An American Life,£48.19,Three,In stock\\n541,\"At The Existentialist Café: Freedom, Being, and apricot cocktails with: Jean-Paul Sartre, Simone de Beauvoir, Albert Camus, Martin Heidegger, Edmund Husserl, Karl Jaspers, Maurice Merleau-Ponty and others\",£29.93,Five,In stock\\n542,A Summer In Europe,£44.34,Two,In stock\\n543,A Short History of Nearly Everything,£52.40,Five,In stock\\n544,A Gathering of Shadows (Shades of Magic #2),£44.81,Four,In stock\\n545,The Sound Of Love,£57.84,Five,In stock\\n546,The Rise and Fall of the Third Reich: A History of Nazi Germany,£39.67,Two,In stock\\n547,The Perks of Being a Wallflower,£55.02,Three,In stock\\n548,The Mysterious Affair at Styles (Hercule Poirot #1),£24.80,Four,In stock\\n549,The Man Who Mistook His Wife for a Hat and Other Clinical Tales,£59.45,Four,In stock\\n550,The Makings of a Fatherless Child,£31.58,Two,In stock\\n551,The Joy of Cooking,£43.27,Four,In stock\\n552,The Invention of Wings,£37.34,One,In stock\\n553,The Hobbit (Middle-Earth Universe),£17.80,Five,In stock\\n554,The Great Railway Bazaar,£30.54,One,In stock\\n555,The Golden Compass (His Dark Materials #1),£18.77,One,In stock\\n556,The God Delusion,£46.85,Three,In stock\\n557,The Girl You Left Behind (The Girl You Left Behind #1),£15.79,One,In stock\\n558,The Fellowship of the Ring (The Lord of the Rings #1),£10.27,Two,In stock\\n559,The Collected Poems of W.B. Yeats (The Collected Works of W.B. Yeats #1),£15.42,Five,In stock\\n560,The Barefoot Contessa Cookbook,£59.92,Five,In stock\\n561,Tell the Wolves I\\'m Home,£50.96,Two,In stock\\n562,Ship Leaves Harbor: Essays on Travel by a Recovering Journeyman,£30.60,Three,In stock\\n563,Pride and Prejudice,£19.27,Four,In stock\\n564,Musicophilia: Tales of Music and the Brain,£46.58,One,In stock\\n565,Mere Christianity,£48.51,Three,In stock\\n566,Me Before You (Me Before You #1),£19.02,One,In stock\\n567,In the Woods (Dublin Murder Squad #1),£38.38,Two,In stock\\n568,In Cold Blood,£49.98,Four,In stock\\n569,How to Stop Worrying and Start Living,£46.49,Five,In stock\\n570,Give It Back,£18.32,Two,In stock\\n571,\"Girl, Interrupted\",£42.14,Three,In stock\\n572,Fun Home: A Family Tragicomic,£56.59,Four,In stock\\n573,\"Fruits Basket, Vol. 6 (Fruits Basket #6)\",£20.96,Four,In stock\\n574,Deception Point,£40.32,Four,In stock\\n575,\"Death Note, Vol. 6: Give-and-Take (Death Note #6)\",£36.39,Three,In stock\\n576,Catherine the Great: Portrait of a Woman,£58.55,Four,In stock\\n577,Better Homes and Gardens New Cook Book,£39.61,Three,In stock\\n578,An Unquiet Mind: A Memoir of Moods and Madness,£21.30,Three,In stock\\n579,A Year in Provence (Provence #1),£56.88,Four,In stock\\n580,World Without End (The Pillars of the Earth #2),£32.97,Four,In stock\\n581,\"Will Grayson, Will Grayson (Will Grayson, Will Grayson)\",£47.31,Four,In stock\\n582,Why Save the Bankers?: And Other Essays on Our Economic and Political Crisis,£48.67,Two,In stock\\n583,Where She Went (If I Stay #2),£41.73,Four,In stock\\n584,What If?: Serious Scientific Answers to Absurd Hypothetical Questions,£53.68,Four,In stock\\n585,Two Summers,£14.64,One,In stock\\n586,This Is Your Brain on Music: The Science of a Human Obsession,£38.40,One,In stock\\n587,The Secret Garden,£15.08,Four,In stock\\n588,The Raven King (The Raven Cycle #4),£30.57,Two,In stock\\n589,The Raven Boys (The Raven Cycle #1),£57.74,Four,In stock\\n590,The Power Greens Cookbook: 140 Delicious Superfood Recipes,£11.05,Five,In stock\\n591,The Metamorphosis,£28.58,One,In stock\\n592,The Mathews Men: Seven Brothers and the War Against Hitler\\'s U-boats,£42.91,Five,In stock\\n593,The Little Paris Bookshop,£24.73,Three,In stock\\n594,The Hiding Place,£55.91,Four,In stock\\n595,The Grand Design,£13.76,Three,In stock\\n596,The Firm,£45.56,Three,In stock\\n597,The Fault in Our Stars,£47.22,One,In stock\\n598,The False Prince (The Ascendance Trilogy #1),£56.00,Five,In stock\\n599,The Expatriates,£44.58,Two,In stock\\n600,The Dream Thieves (The Raven Cycle #2),£34.50,One,In stock\\n601,The Darkest Corners,£11.33,Five,In stock\\n602,The Crossover,£38.77,Four,In stock\\n603,The 5th Wave (The 5th Wave #1),£11.83,Two,In stock\\n604,Tell the Wind and Fire,£45.51,Three,In stock\\n605,Tell Me Three Things,£41.81,One,In stock\\n606,Talking to Girls About Duran Duran: One Young Man\\'s Quest for True Love and a Cooler Haircut,£25.15,Four,In stock\\n607,Siddhartha,£34.22,Five,In stock\\n608,Shiver (The Wolves of Mercy Falls #1),£16.23,Five,In stock\\n609,Remember Me?,£11.48,Three,In stock\\n610,Red Dragon (Hannibal Lecter #1),£23.37,Three,In stock\\n611,Peak: Secrets from the New Science of Expertise,£16.28,Two,In stock\\n612,My Mother Was Nuts,£31.63,Four,In stock\\n613,Mexican Today: New and Rediscovered Recipes for Contemporary Kitchens,£24.91,Five,In stock\\n614,Maybe Something Beautiful: How Art Transformed a Neighborhood,£22.54,One,In stock\\n615,Lola and the Boy Next Door (Anna and the French Kiss #2),£23.63,Four,In stock\\n616,Logan Kade (Fallen Crest High #5.5),£13.12,Two,In stock\\n617,Last One Home (New Beginnings #1),£59.98,Three,In stock\\n618,Killing Floor (Jack Reacher #1),£31.49,Four,In stock\\n619,Kill the Boy Band,£15.52,Five,In stock\\n620,Isla and the Happily Ever After (Anna and the French Kiss #3),£48.13,Five,In stock\\n621,If I Stay (If I Stay #1),£38.13,Five,In stock\\n622,I Know Why the Caged Bird Sings (Maya Angelou\\'s Autobiography #1),£36.55,Two,In stock\\n623,Harry Potter and the Deathly Hallows (Harry Potter #7),£23.32,One,In stock\\n624,\"Fruits Basket, Vol. 5 (Fruits Basket #5)\",£16.33,One,In stock\\n625,Foundation (Foundation (Publication Order) #1),£32.42,One,In stock\\n626,Fool Me Once,£16.96,One,In stock\\n627,Find Her (Detective D.D. Warren #8),£22.37,One,In stock\\n628,Evicted: Poverty and Profit in the American City,£42.27,One,In stock\\n629,Drama,£38.70,Two,In stock\\n630,Dracula the Un-Dead,£35.63,Five,In stock\\n631,Digital Fortress,£58.00,Five,In stock\\n632,\"Death Note, Vol. 5: Whiteout (Death Note #5)\",£52.41,One,In stock\\n633,\"Data, A Love Story: How I Gamed Online Dating to Meet My Match\",£32.35,Three,In stock\\n634,Critique of Pure Reason,£20.75,One,In stock\\n635,Booked,£17.49,Five,In stock\\n636,\"Blue Lily, Lily Blue (The Raven Cycle #3)\",£34.13,Five,In stock\\n637,Approval Junkie: Adventures in Caring Too Much,£58.81,Five,In stock\\n638,An Abundance of Katherines,£10.00,Five,In stock\\n639,America\\'s War for the Greater Middle East: A Military History,£51.22,Two,In stock\\n640,Alight (The Generations Trilogy #2),£58.59,Four,In stock\\n641,A Girl\\'s Guide to Moving On (New Beginnings #2),£31.30,One,In stock\\n642,A Game of Thrones (A Song of Ice and Fire #1),£46.42,Two,In stock\\n643,A Feast for Crows (A Song of Ice and Fire #4),£17.21,Four,In stock\\n644,A Clash of Kings (A Song of Ice and Fire #2),£10.79,Three,In stock\\n645,Vogue Colors A to Z: A Fashion Coloring Book,£52.35,Four,In stock\\n646,The Shining (The Shining #1),£27.88,Three,In stock\\n647,The Pilgrim\\'s Progress,£50.26,Two,In stock\\n648,The Perfect Play (Play by Play #1),£59.99,Three,In stock\\n649,The Passion of Dolssa,£28.32,Five,In stock\\n650,The Jazz of Physics: The Secret Link Between Music and the Structure of the Universe,£38.71,Three,In stock\\n651,The Hunger Games (The Hunger Games #1),£29.85,Five,In stock\\n652,The Hound of the Baskervilles (Sherlock Holmes #5),£14.82,Two,In stock\\n653,The Gunning of America: Business and the Making of American Gun Culture,£16.81,Four,In stock\\n654,The Geography of Bliss: One Grump\\'s Search for the Happiest Places in the World,£28.23,Two,In stock\\n655,The Demonists (Demonist #1),£52.11,Two,In stock\\n656,\"The Demon Prince of Momochi House, Vol. 4 (The Demon Prince of Momochi House #4)\",£27.88,Two,In stock\\n657,The Bone Hunters (Lexy Vaughan & Steven Macaulay #2),£59.71,Three,In stock\\n658,The Beast (Black Dagger Brotherhood #14),£46.08,Five,In stock\\n659,Some Women,£13.73,Five,In stock\\n660,Shopaholic Ties the Knot (Shopaholic #3),£48.39,Five,In stock\\n661,Paper and Fire (The Great Library #2),£49.45,Five,In stock\\n662,Outlander (Outlander #1),£19.67,Five,In stock\\n663,\"Orchestra of Exiles: The Story of Bronislaw Huberman, the Israel Philharmonic, and the One Thousand Jews He Saved from Nazi Horrors\",£12.36,Three,In stock\\n664,No One Here Gets Out Alive,£20.02,Five,In stock\\n665,Night Shift (Night Shift #1-20),£12.75,Four,In stock\\n666,Needful Things,£47.51,Four,In stock\\n667,Mockingjay (The Hunger Games #3),£20.44,Four,In stock\\n668,Misery,£34.79,Two,In stock\\n669,Little Women (Little Women #1),£28.07,Four,In stock\\n670,It,£25.01,Three,In stock\\n671,Harry Potter and the Sorcerer\\'s Stone (Harry Potter #1),£13.90,Three,In stock\\n672,Harry Potter and the Prisoner of Azkaban (Harry Potter #3),£24.17,Four,In stock\\n673,Harry Potter and the Order of the Phoenix (Harry Potter #5),£31.63,Four,In stock\\n674,Harry Potter and the Half-Blood Prince (Harry Potter #6),£48.75,Five,In stock\\n675,Harry Potter and the Chamber of Secrets (Harry Potter #2),£14.74,One,In stock\\n676,Gone with the Wind,£32.49,Three,In stock\\n677,God Is Not Great: How Religion Poisons Everything,£27.80,One,In stock\\n678,Girl With a Pearl Earring,£26.77,One,In stock\\n679,\"Fruits Basket, Vol. 4 (Fruits Basket #4)\",£50.44,Four,In stock\\n680,Far From True (Promise Falls Trilogy #2),£34.93,Two,In stock\\n681,Dark Lover (Black Dagger Brotherhood #1),£12.87,One,In stock\\n682,Confessions of a Shopaholic (Shopaholic #1),£48.94,Two,In stock\\n683,Changing the Game (Play by Play #2),£13.38,Three,In stock\\n684,Candide,£58.63,Three,In stock\\n685,Can You Keep a Secret?,£21.94,One,In stock\\n686,Atlas Shrugged,£26.58,Five,In stock\\n687,Animal Farm,£57.22,Three,In stock\\n688,A Walk to Remember,£56.43,One,In stock\\n689,A New Earth: Awakening to Your Life\\'s Purpose,£55.65,Five,In stock\\n690,\"A History of God: The 4,000-Year Quest of Judaism, Christianity, and Islam\",£27.62,One,In stock\\n691,\\'Salem\\'s Lot,£49.56,Four,In stock\\n692,Zero History (Blue Ant #3),£34.77,One,In stock\\n693,Wuthering Heights,£17.73,Three,In stock\\n694,World War Z: An Oral History of the Zombie War,£21.80,One,In stock\\n695,Wild: From Lost to Found on the Pacific Crest Trail,£46.02,Three,In stock\\n696,\"Where\\'d You Go, Bernadette\",£18.13,One,In stock\\n697,When You Are Engulfed in Flames,£30.89,Five,In stock\\n698,We the People: The Modern-Day Figures Who Have Reshaped and Affirmed the Founding Fathers\\' Vision of America,£31.95,Three,In stock\\n699,We Are All Completely Beside Ourselves,£24.04,One,In stock\\n700,Walk the Edge (Thunder Road #2),£32.36,Three,In stock\\n701,Voyager (Outlander #3),£21.07,Five,In stock\\n702,Very Good Lives: The Fringe Benefits of Failure and the Importance of Imagination,£50.66,Three,In stock\\n703,Vegan Vegetarian Omnivore: Dinner for Everyone at the Table,£13.66,Two,In stock\\n704,\"Unstuffed: Decluttering Your Home, Mind, and Soul\",£58.09,One,In stock\\n705,Under the Banner of Heaven: A Story of Violent Faith,£30.00,One,In stock\\n706,Two Boys Kissing,£32.74,Two,In stock\\n707,Twilight (Twilight #1),£41.93,Two,In stock\\n708,Twenties Girl,£42.80,Two,In stock\\n709,\"Trespassing Across America: One Man\\'s Epic, Never-Done-Before (and Sort of Illegal) Hike Across the Heartland\",£53.51,One,In stock\\n710,Three-Martini Lunch,£23.21,Three,In stock\\n711,\"Thinking, Fast and Slow\",£21.14,One,In stock\\n712,The Wild Robot,£56.07,Three,In stock\\n713,\"The Wicked + The Divine, Vol. 3: Commercial Suicide (The Wicked + The Divine)\",£14.41,Three,In stock\\n714,The Undomestic Goddess,£45.75,Four,In stock\\n715,The Travelers,£15.77,One,In stock\\n716,The Tipping Point: How Little Things Can Make a Big Difference,£10.02,Two,In stock\\n717,The Thing About Jellyfish,£48.77,One,In stock\\n718,The Stand,£57.86,Two,In stock\\n719,The Smitten Kitchen Cookbook,£23.59,One,In stock\\n720,The Silkworm (Cormoran Strike #2),£23.05,Five,In stock\\n721,\"The Sandman, Vol. 3: Dream Country (The Sandman (volumes) #3)\",£55.55,Five,In stock\\n722,The Rose & the Dagger (The Wrath and the Dawn #2),£58.64,Four,In stock\\n723,The Road to Little Dribbling: Adventures of an American in Britain (Notes From a Small Island #2),£23.21,One,In stock\\n724,The Rise of Theodore Roosevelt (Theodore Roosevelt #1),£42.57,Three,In stock\\n725,The Restaurant at the End of the Universe (Hitchhiker\\'s Guide to the Galaxy #2),£10.92,One,In stock\\n726,The Rest Is Noise: Listening to the Twentieth Century,£34.77,One,In stock\\n727,The Red Tent,£35.66,Five,In stock\\n728,The Purpose Driven Life: What on Earth Am I Here for?,£37.19,Three,In stock\\n729,The Purest Hook (Second Circle Tattoos #3),£12.25,One,In stock\\n730,The Picture of Dorian Gray,£29.70,Two,In stock\\n731,The Paris Wife,£36.80,Three,In stock\\n732,The Obsession,£45.43,One,In stock\\n733,The Nightingale,£26.26,Four,In stock\\n734,The New Guy (and Other Senior Year Distractions),£44.92,Three,In stock\\n735,The Nanny Diaries (Nanny #1),£52.53,Five,In stock\\n736,The Name of God is Mercy,£37.25,Two,In stock\\n737,The Maze Runner (The Maze Runner #1),£20.93,One,In stock\\n738,The Lover\\'s Dictionary,£58.09,Two,In stock\\n739,The Lonely Ones,£43.59,Five,In stock\\n740,The Lean Startup: How Today\\'s Entrepreneurs Use Continuous Innovation to Create Radically Successful Businesses,£33.92,Three,In stock\\n741,The Last Painting of Sara de Vos,£55.55,Two,In stock\\n742,\"The Land of 10,000 Madonnas\",£29.64,Four,In stock\\n743,The Infinities,£27.41,One,In stock\\n744,The Husband\\'s Secret,£52.51,Five,In stock\\n745,The Hitchhiker\\'s Guide to the Galaxy (Hitchhiker\\'s Guide to the Galaxy #1),£47.80,Three,In stock\\n746,The Guns of August,£14.54,Two,In stock\\n747,The Guernsey Literary and Potato Peel Pie Society,£49.53,One,In stock\\n748,The Goldfinch,£43.58,Three,In stock\\n749,The Giver (The Giver Quartet #1),£12.30,One,In stock\\n750,The Girl with All the Gifts,£49.47,Three,In stock\\n751,The Girl Who Played with Fire (Millennium Trilogy #2),£22.14,Two,In stock\\n752,The Girl Who Kicked the Hornet\\'s Nest (Millennium Trilogy #3),£57.48,One,In stock\\n753,The Exiled,£43.45,Three,In stock\\n754,\"The End of Faith: Religion, Terror, and the Future of Reason\",£22.13,Four,In stock\\n755,\"The Elegant Universe: Superstrings, Hidden Dimensions, and the Quest for the Ultimate Theory\",£13.03,Four,In stock\\n756,\"The Disappearing Spoon: And Other True Tales of Madness, Love, and the History of the World from the Periodic Table of the Elements\",£57.35,Five,In stock\\n757,The Devil Wears Prada (The Devil Wears Prada #1),£44.29,One,In stock\\n758,The Demon-Haunted World: Science as a Candle in the Dark,£52.25,Four,In stock\\n759,The Day the Crayons Came Home (Crayons),£26.33,Five,In stock\\n760,The Da Vinci Code (Robert Langdon #2),£22.96,Two,In stock\\n761,The Cuckoo\\'s Calling (Cormoran Strike #1),£19.21,One,In stock\\n762,The Complete Stories and Poems (The Works of Edgar Allan Poe [Cameo Edition]),£26.78,Four,In stock\\n763,The Complete Poems,£41.32,Five,In stock\\n764,The Catcher in the Rye,£24.55,One,In stock\\n765,The Cat in the Hat (Beginner Books B-1),£16.26,Two,In stock\\n766,The Case for Christ (Cases for Christianity),£47.84,One,In stock\\n767,The Book Thief,£53.49,Two,In stock\\n768,The Book of Basketball: The NBA According to The Sports Guy,£44.84,Five,In stock\\n769,The Blind Side: Evolution of a Game,£53.71,Five,In stock\\n770,The Autobiography of Malcolm X,£23.43,Two,In stock\\n771,\"The Art of Simple Food: Notes, Lessons, and Recipes from a Delicious Revolution\",£34.32,Three,In stock\\n772,The Art of Fielding,£22.10,One,In stock\\n773,\"Surely You\\'re Joking, Mr. Feynman!: Adventures of a Curious Character\",£25.83,Two,In stock\\n774,Stiff: The Curious Lives of Human Cadavers,£36.74,Three,In stock\\n775,Spilled Milk: Based on a True Story,£49.51,One,In stock\\n776,Something Borrowed (Darcy & Rachel #1),£48.96,Five,In stock\\n777,Something Blue (Darcy & Rachel #2),£54.62,One,In stock\\n778,Soldier (Talon #3),£24.72,Two,In stock\\n779,Shopaholic & Baby (Shopaholic #5),£46.45,Two,In stock\\n780,Seven Days in the Art World,£52.33,Two,In stock\\n781,Seven Brief Lessons on Physics,£30.60,Four,In stock\\n782,Scarlet (The Lunar Chronicles #2),£14.57,Four,In stock\\n783,Sarah\\'s Key,£46.29,One,In stock\\n784,\"Saga, Volume 3 (Saga (Collected Editions) #3)\",£21.57,Five,In stock\\n785,Running with Scissors,£12.91,Four,In stock\\n786,Rogue Lawyer (Rogue Lawyer #1),£50.11,Three,In stock\\n787,\"Rise of the Rocket Girls: The Women Who Propelled Us, from Missiles to the Moon to Mars\",£41.67,Four,In stock\\n788,Rework,£44.88,Two,In stock\\n789,Reservations for Two,£11.10,Three,In stock\\n790,Red: The True Story of Red Riding Hood,£28.54,Three,In stock\\n791,Ready Player One,£19.07,Four,In stock\\n792,Quiet: The Power of Introverts in a World That Can\\'t Stop Talking,£43.55,One,In stock\\n793,Prodigy: The Graphic Novel (Legend: The Graphic Novel #2),£43.63,Three,In stock\\n794,Persepolis: The Story of a Childhood (Persepolis #1-2),£39.13,One,In stock\\n795,Packing for Mars: The Curious Science of Life in the Void,£56.68,Two,In stock\\n796,Outliers: The Story of Success,£14.16,One,In stock\\n797,Original Fake,£31.45,Three,In stock\\n798,Orange Is the New Black,£24.61,Two,In stock\\n799,One for the Money (Stephanie Plum #1),£32.87,Two,In stock\\n800,Notes from a Small Island (Notes From a Small Island #1),£40.17,One,In stock\\n801,Night (The Night Trilogy #1),£13.51,One,In stock\\n802,Neither Here nor There: Travels in Europe,£38.95,Three,In stock\\n803,Naked,£31.69,Three,In stock\\n804,Morning Star (Red Rising #3),£29.40,One,In stock\\n805,\"Miracles from Heaven: A Little Girl, Her Journey to Heaven, and Her Amazing Story of Healing\",£57.83,One,In stock\\n806,Midnight Riot (Peter Grant/ Rivers of London - books #1),£55.46,Two,In stock\\n807,Me Talk Pretty One Day,£57.60,Two,In stock\\n808,Manuscript Found in Accra,£34.98,Two,In stock\\n809,Lust & Wonder,£11.87,Two,In stock\\n810,Lila (Gilead #3),£12.47,Three,In stock\\n811,\"Life, the Universe and Everything (Hitchhiker\\'s Guide to the Galaxy #3)\",£33.26,Two,In stock\\n812,Life Without a Recipe,£59.04,Five,In stock\\n813,Life After Life,£26.13,Two,In stock\\n814,Letter to a Christian Nation,£22.20,One,In stock\\n815,Let\\'s Pretend This Never Happened: A Mostly True Memoir,£45.11,One,In stock\\n816,Legend (Legend #1),£43.69,Four,In stock\\n817,\"Lean In: Women, Work, and the Will to Lead\",£25.02,One,In stock\\n818,\"Lamb: The Gospel According to Biff, Christ\\'s Childhood Pal\",£55.50,Five,In stock\\n819,Lady Renegades (Rebel Belle #3),£53.04,Five,In stock\\n820,Jurassic Park (Jurassic Park #1),£44.97,One,In stock\\n821,It\\'s Never Too Late to Begin Again: Discovering Creativity and Meaning at Midlife and Beyond,£42.38,One,In stock\\n822,Is Everyone Hanging Out Without Me? (And Other Concerns),£20.11,Three,In stock\\n823,Into the Wild,£56.70,Five,In stock\\n824,Inferno (Robert Langdon #4),£41.00,Five,In stock\\n825,\"In the Garden of Beasts: Love, Terror, and an American Family in Hitler\\'s Berlin\",£28.85,Three,In stock\\n826,If I Run (If I Run #1),£49.97,Four,In stock\\n827,I\\'ve Got Your Number,£19.69,One,In stock\\n828,I Am Malala: The Girl Who Stood Up for Education and Was Shot by the Taliban,£28.88,Two,In stock\\n829,Hungry Girl Clean & Hungry: Easy All-Natural Recipes for Healthy Eating in the Real World,£33.14,Three,In stock\\n830,\"House of Lost Worlds: Dinosaurs, Dynasties, and the Story of Life on Earth\",£43.70,Two,In stock\\n831,House of Leaves,£54.89,One,In stock\\n832,Horrible Bear!,£37.52,Two,In stock\\n833,Holidays on Ice,£51.07,Two,In stock\\n834,Heir to the Sky,£44.07,Four,In stock\\n835,Green Eggs and Ham (Beginner Books B-16),£10.79,Four,In stock\\n836,\"Grayson, Vol 3: Nemesis (Grayson #3)\",£42.72,One,In stock\\n837,Gratitude,£26.66,Five,In stock\\n838,Gone Girl,£37.60,Five,In stock\\n839,Golden (Heart of Dread #3),£42.21,Four,In stock\\n840,Girl in the Blue Coat,£46.83,Two,In stock\\n841,\"Fruits Basket, Vol. 3 (Fruits Basket #3)\",£45.17,Two,In stock\\n842,\"Friday Night Lights: A Town, a Team, and a Dream\",£51.22,Three,In stock\\n843,Fire Bound (Sea Haven/Sisters of the Heart #5),£21.28,Four,In stock\\n844,Fifty Shades Freed (Fifty Shades #3),£15.36,Five,In stock\\n845,Fellside,£38.62,One,In stock\\n846,Extreme Prey (Lucas Davenport #26),£25.40,Three,In stock\\n847,Eragon (The Inheritance Cycle #1),£43.87,Three,In stock\\n848,Eclipse (Twilight #3),£18.74,One,In stock\\n849,Dune (Dune #1),£54.86,One,In stock\\n850,Dracula,£52.62,Three,In stock\\n851,Do Androids Dream of Electric Sheep? (Blade Runner #1),£51.48,One,In stock\\n852,Disrupted: My Misadventure in the Start-Up Bubble,£15.28,Five,In stock\\n853,Dead Wake: The Last Crossing of the Lusitania,£39.24,Five,In stock\\n854,\"David and Goliath: Underdogs, Misfits, and the Art of Battling Giants\",£17.81,One,In stock\\n855,Darkfever (Fever #1),£56.02,One,In stock\\n856,Dark Places,£23.90,Five,In stock\\n857,Crazy Rich Asians (Crazy Rich Asians #1),£49.13,Five,In stock\\n858,Counting Thyme,£10.62,One,In stock\\n859,Cosmos,£36.17,Two,In stock\\n860,Civilization and Its Discontents,£59.95,Two,In stock\\n861,Cinder (The Lunar Chronicles #1),£26.09,One,In stock\\n862,Catastrophic Happiness: Finding Joy in Childhood\\'s Messy Years,£37.35,Two,In stock\\n863,Career of Evil (Cormoran Strike #3),£24.72,Two,In stock\\n864,Breaking Dawn (Twilight #4),£35.28,Five,In stock\\n865,Brave Enough,£51.32,Five,In stock\\n866,Boy Meets Boy,£21.12,Three,In stock\\n867,\"Born to Run: A Hidden Tribe, Superathletes, and the Greatest Race the World Has Never Seen\",£27.35,Two,In stock\\n868,Blink: The Power of Thinking Without Thinking,£21.74,Five,In stock\\n869,Black Flags: The Rise of ISIS,£40.87,One,In stock\\n870,\"Black Butler, Vol. 1 (Black Butler #1)\",£49.31,One,In stock\\n871,Big Little Lies,£22.11,One,In stock\\n872,Between Shades of Gray,£20.79,Five,In stock\\n873,Best of My Love (Fool\\'s Gold #20),£27.41,Two,In stock\\n874,Beowulf,£38.35,Two,In stock\\n875,Beautiful Creatures (Caster Chronicles #1),£21.55,Five,In stock\\n876,Awkward,£38.02,Two,In stock\\n877,Ash,£22.06,Four,In stock\\n878,Are We There Yet?,£10.66,Three,In stock\\n879,Are We Smart Enough to Know How Smart Animals Are?,£56.58,One,In stock\\n880,Annie on My Mind,£36.83,Five,In stock\\n881,And Then There Were None,£35.01,Two,In stock\\n882,A Walk in the Woods: Rediscovering America on the Appalachian Trail,£30.48,Four,In stock\\n883,A Visit from the Goon Squad,£14.08,Five,In stock\\n884,A Storm of Swords (A Song of Ice and Fire #3),£31.22,Two,In stock\\n885,A Heartbreaking Work of Staggering Genius,£54.29,Five,In stock\\n886,8 Keys to Mental Health Through Exercise,£31.04,One,In stock\\n887,#GIRLBOSS,£50.96,One,In stock\\n888,\"The Suffragettes (Little Black Classics, #96)\",£11.89,Two,In stock\\n889,The Sense of an Ending,£31.38,Three,In stock\\n890,\"The Sandman, Vol. 2: The Doll\\'s House (The Sandman (volumes) #2)\",£54.81,One,In stock\\n891,The Course of Love,£16.78,Three,In stock\\n892,Sugar Rush (Offensive Line #2),£24.42,One,In stock\\n893,\"Saga, Volume 2 (Saga (Collected Editions) #2)\",£11.75,Three,In stock\\n894,\"Run, Spot, Run: The Ethics of Keeping Pets\",£20.02,One,In stock\\n895,New Moon (Twilight #2),£12.86,Four,In stock\\n896,Life,£31.58,Five,In stock\\n897,Kindle Paperwhite User\\'s Guide,£34.00,Three,In stock\\n898,H is for Hawk,£57.42,Five,In stock\\n899,Girl Online On Tour (Girl Online #2),£53.47,One,In stock\\n900,\"Fruits Basket, Vol. 2 (Fruits Basket #2)\",£11.64,Five,In stock\\n901,Diary of a Minecraft Zombie Book 1: A Scare of a Dare (An Unofficial Minecraft Book),£52.88,Four,In stock\\n902,\"Y: The Last Man, Vol. 1: Unmanned (Y: The Last Man #1)\",£18.51,Four,In stock\\n903,While You Were Mine,£41.32,Five,In stock\\n904,Where Lightning Strikes (Bleeding Stars #3),£39.77,Three,In stock\\n905,When I\\'m Gone,£51.96,Three,In stock\\n906,Ways of Seeing,£39.51,Five,In stock\\n907,\"Vampire Knight, Vol. 1 (Vampire Knight #1)\",£15.40,One,In stock\\n908,Vampire Girl (Vampire Girl #1),£53.82,Two,In stock\\n909,Twenty Love Poems and a Song of Despair,£30.95,Four,In stock\\n910,Travels with Charley: In Search of America,£57.82,Five,In stock\\n911,Three Wishes (River of Time: California #1),£44.18,Two,In stock\\n912,This One Moment (Pushing Limits #1),£48.71,One,In stock\\n913,The Zombie Room,£19.69,Five,In stock\\n914,\"The Wicked + The Divine, Vol. 1: The Faust Act (The Wicked + The Divine)\",£36.52,Two,In stock\\n915,The Tumor,£41.56,Five,In stock\\n916,The Story of Hong Gildong,£43.19,Four,In stock\\n917,The Silent Wife,£12.34,Five,In stock\\n918,The Silent Twin (Detective Jennifer Knight #3),£36.25,Three,In stock\\n919,The Selfish Gene,£29.45,One,In stock\\n920,The Secret Healer,£34.56,Three,In stock\\n921,\"The Sandman, Vol. 1: Preludes and Nocturnes (The Sandman (volumes) #1)\",£54.12,Three,In stock\\n922,The Republic,£33.78,Three,In stock\\n923,The Odyssey,£29.64,Three,In stock\\n924,The No. 1 Ladies\\' Detective Agency (No. 1 Ladies\\' Detective Agency #1),£57.70,Four,In stock\\n925,The Nicomachean Ethics,£36.34,One,In stock\\n926,The Name of the Wind (The Kingkiller Chronicle #1),£50.59,Three,In stock\\n927,The Mirror & the Maze (The Wrath and the Dawn #1.5),£29.38,One,In stock\\n928,The Little Prince,£45.42,Two,In stock\\n929,The Light of the Fireflies,£54.43,One,In stock\\n930,The Last Girl (The Dominion Trilogy #1),£36.26,Two,In stock\\n931,The Iliad,£16.16,One,In stock\\n932,The Hook Up (Game On #1),£36.29,Five,In stock\\n933,The Haters,£27.89,Five,In stock\\n934,The Girl You Lost,£12.29,Five,In stock\\n935,The Girl In The Ice (DCI Erika Foster #1),£15.85,Three,In stock\\n936,The End of the Jesus Era (An Investigation #1),£14.40,One,In stock\\n937,The Edge of Reason (Bridget Jones #2),£19.18,Four,In stock\\n938,The Complete Maus (Maus #1-2),£10.64,Three,In stock\\n939,The Communist Manifesto,£14.76,Three,In stock\\n940,The Bhagavad Gita,£57.49,Three,In stock\\n941,The Bette Davis Club,£30.66,Three,In stock\\n942,The Art of Not Breathing,£40.83,Four,In stock\\n943,Taking Shots (Assassins #1),£18.88,Two,In stock\\n944,Starlark,£25.83,Three,In stock\\n945,\"Skip Beat!, Vol. 01 (Skip Beat! #1)\",£42.12,Three,In stock\\n946,Sister Sable (The Mad Queen #1),£13.33,Three,In stock\\n947,Shatter Me (Shatter Me #1),£42.40,One,In stock\\n948,Shameless,£58.35,Three,In stock\\n949,Shadow Rites (Jane Yellowrock #10),£21.72,Four,In stock\\n950,Settling the Score (The Summer Games #1),£44.91,Two,In stock\\n951,Sense and Sensibility,£37.46,One,In stock\\n952,\"Saga, Volume 1 (Saga (Collected Editions) #1)\",£28.48,One,In stock\\n953,\"Rhythm, Chord & Malykhin\",£28.34,Two,In stock\\n954,\"Rat Queens, Vol. 1: Sass & Sorcery (Rat Queens (Collected Editions) #1-5)\",£46.96,Five,In stock\\n955,Paradise Lost (Paradise #1),£24.96,One,In stock\\n956,\"Paper Girls, Vol. 1 (Paper Girls #1-5)\",£21.71,Four,In stock\\n957,\"Ouran High School Host Club, Vol. 1 (Ouran High School Host Club #1)\",£29.87,Three,In stock\\n958,Origins (Alphas 0.5),£28.99,One,In stock\\n959,One Second (Seven #7),£52.94,Two,In stock\\n960,On the Road (Duluoz Legend),£32.36,Three,In stock\\n961,Old Records Never Die: One Man\\'s Quest for His Vinyl and His Past,£55.66,Two,In stock\\n962,Off Sides (Off #1),£39.45,Five,In stock\\n963,Of Mice and Men,£47.11,Two,In stock\\n964,Myriad (Prentor #1),£58.75,Four,In stock\\n965,My Perfect Mistake (Over the Top #1),£38.92,Two,In stock\\n966,\"Ms. Marvel, Vol. 1: No Normal (Ms. Marvel (2014-2015) #1)\",£39.39,Four,In stock\\n967,Meditations,£25.89,Two,In stock\\n968,Matilda,£28.34,One,In stock\\n969,Lost Among the Living,£27.70,Four,In stock\\n970,Lord of the Flies,£24.89,Three,In stock\\n971,Listen to Me (Fusion #1),£58.99,Three,In stock\\n972,Kitchens of the Great Midwest,£57.20,Five,In stock\\n973,Jane Eyre,£38.43,Five,In stock\\n974,Imperfect Harmony,£34.74,Four,In stock\\n975,Icing (Aces Hockey #2),£40.44,Four,In stock\\n976,\"Hawkeye, Vol. 1: My Life as a Weapon (Hawkeye #1)\",£45.24,Three,In stock\\n977,Having the Barbarian\\'s Baby (Ice Planet Barbarians #7.5),£34.96,Four,In stock\\n978,\"Giant Days, Vol. 1 (Giant Days #1-4)\",£56.76,Four,In stock\\n979,\"Fruits Basket, Vol. 1 (Fruits Basket #1)\",£40.28,Five,In stock\\n980,Frankenstein,£38.00,Two,In stock\\n981,Forever Rockers (The Rocker #12),£28.80,Three,In stock\\n982,Fighting Fate (Fighting #6),£39.24,Three,In stock\\n983,Emma,£32.93,Two,In stock\\n984,\"Eat, Pray, Love\",£51.32,Three,In stock\\n985,Deep Under (Walker Security #1),£47.09,Five,In stock\\n986,Choosing Our Religion: The Spiritual Lives of America\\'s Nones,£28.42,Four,In stock\\n987,Charlie and the Chocolate Factory (Charlie Bucket #1),£22.85,Three,In stock\\n988,Charity\\'s Cross (Charles Towne Belles #4),£41.24,One,In stock\\n989,Bright Lines,£39.07,Five,In stock\\n990,Bridget Jones\\'s Diary (Bridget Jones #1),£29.82,One,In stock\\n991,Bounty (Colorado Mountain #7),£37.26,Four,In stock\\n992,Blood Defense (Samantha Brinkman #1),£20.30,Three,In stock\\n993,\"Bleach, Vol. 1: Strawberry and the Soul Reapers (Bleach #1)\",£34.65,Five,In stock\\n994,Beyond Good and Evil,£43.38,One,In stock\\n995,Alice in Wonderland (Alice\\'s Adventures in Wonderland #1),£55.53,One,In stock\\n996,\"Ajin: Demi-Human, Volume 1 (Ajin: Demi-Human #1)\",£57.06,Four,In stock\\n997,A Spy\\'s Devotion (The Regency Spies of London #1),£16.97,Five,In stock\\n998,1st to Die (Women\\'s Murder Club #1),£53.98,One,In stock\\n999,\"1,000 Places to See Before You Die\",£26.08,Five,In stock\\n'"
            ],
            "application/vnd.google.colaboratory.intrinsic+json": {
              "type": "string"
            }
          },
          "metadata": {},
          "execution_count": 3
        }
      ],
      "source": [
        "raw\n"
      ]
    },
    {
      "cell_type": "code",
      "execution_count": null,
      "metadata": {
        "colab": {
          "base_uri": "https://localhost:8080/"
        },
        "id": "y3gB9khRuFYS",
        "outputId": "b4929bb2-a8a2-4399-93ba-aff266de147f"
      },
      "outputs": [
        {
          "output_type": "stream",
          "name": "stderr",
          "text": [
            "[nltk_data] Downloading package punkt to /root/nltk_data...\n",
            "[nltk_data]   Unzipping tokenizers/punkt.zip.\n",
            "[nltk_data] Downloading package wordnet to /root/nltk_data...\n",
            "[nltk_data] Downloading package omw-1.4 to /root/nltk_data...\n"
          ]
        },
        {
          "output_type": "execute_result",
          "data": {
            "text/plain": [
              "True"
            ]
          },
          "metadata": {},
          "execution_count": 4
        }
      ],
      "source": [
        "raw = raw.lower() # converting entire text to lower case\n",
        "nltk.download('punkt') # tokenizer which train on like twitter dataset\n",
        "nltk.download('wordnet')# dictionary\n",
        "nltk.download('omw-1.4')\n"
      ]
    },
    {
      "cell_type": "code",
      "execution_count": null,
      "metadata": {
        "id": "mV833Jd6waPa"
      },
      "outputs": [],
      "source": [
        "sentence_tokens = nltk.sent_tokenize(raw)\n",
        "word_tokens = nltk.word_tokenize(raw)"
      ]
    },
    {
      "cell_type": "markdown",
      "metadata": {
        "id": "xTvWZZfgv9VR"
      },
      "source": [
        "After Tokenization"
      ]
    },
    {
      "cell_type": "code",
      "execution_count": null,
      "metadata": {
        "colab": {
          "base_uri": "https://localhost:8080/"
        },
        "id": "9vKmq6s1wASf",
        "outputId": "785f1126-32ef-4fc1-860a-c0095debace2"
      },
      "outputs": [
        {
          "output_type": "execute_result",
          "data": {
            "text/plain": [
              "[\"i've put this cheatsheet together to help you become knowledgeable and effective with react hooks as quickly as possible.\",\n",
              " 'plus, this tutorial is also an interactive video guide that will show you practical examples of how to use each hook in 30 seconds or less.',\n",
              " 'each example builds off of the previous one and it includes tons of patterns and best practices that will help you build apps with react hooks for years to come.',\n",
              " 'want your own copy?\\u202c\\nclick here to download the cheatsheet in pdf format (it takes 5 seconds).',\n",
              " \"here are 3 quick wins you get when you grab the downloadable version:\\n\\nyou'll get tons of copyable code snippets for easy reuse in your own projects.\"]"
            ]
          },
          "metadata": {},
          "execution_count": 6
        }
      ],
      "source": [
        "sentence_tokens[:5]"
      ]
    },
    {
      "cell_type": "code",
      "execution_count": null,
      "metadata": {
        "colab": {
          "base_uri": "https://localhost:8080/"
        },
        "id": "tx9hd-Rhwogj",
        "outputId": "23d360f8-cfac-49a2-f6df-9ae7753828bb"
      },
      "outputs": [
        {
          "output_type": "execute_result",
          "data": {
            "text/plain": [
              "[',', 'name', 'of', 'book', ',']"
            ]
          },
          "metadata": {},
          "execution_count": 7
        }
      ],
      "source": [
        "word_tokens[:5]"
      ]
    },
    {
      "cell_type": "markdown",
      "metadata": {
        "id": "iHcHxsniwxI9"
      },
      "source": [
        "Text-Preprocessing steps\n",
        "It will remove all coma and unnecessary words"
      ]
    },
    {
      "cell_type": "code",
      "execution_count": null,
      "metadata": {
        "id": "gvh515xkw2f1"
      },
      "outputs": [],
      "source": [
        "lemmer = nltk.stem.WordNetLemmatizer()\n",
        "def LemTokens(tokens):\n",
        "  return [lemmer.lemmatize(token) for token in tokens]\n",
        "remove_punc_dict = dict((ord(punct),None) for punct in string.punctuation)\n",
        "def LemNormalize(text):\n",
        "  return LemTokens(nltk.word_tokenize(text.lower().translate(remove_punc_dict)))"
      ]
    },
    {
      "cell_type": "markdown",
      "metadata": {
        "id": "0caoZrSXyBHf"
      },
      "source": [
        "Greeting function"
      ]
    },
    {
      "cell_type": "code",
      "execution_count": null,
      "metadata": {
        "id": "9b_KUGksyHh4"
      },
      "outputs": [],
      "source": [
        "greet_inputs=('hello','hey','how are you?')\n",
        "greet_responses = ('hi','hey','Bonjoir','There There!')\n",
        "def greet(sentence):\n",
        "  for word in sentence.split():\n",
        "    if word.lower() in greet_inputs:\n",
        "      return random.choice(greet_responses)\n",
        "\n",
        "\n"
      ]
    },
    {
      "cell_type": "markdown",
      "metadata": {
        "id": "hxEf6tNby49V"
      },
      "source": [
        "Response Generation by Bot"
      ]
    },
    {
      "cell_type": "code",
      "execution_count": null,
      "metadata": {
        "id": "VNeQb9aHy7y8"
      },
      "outputs": [],
      "source": [
        "from sklearn.feature_extraction.text import TfidfVectorizer\n",
        "from sklearn.metrics.pairwise import cosine_similarity\n",
        "custom_stop_words = set(['ha', 'le', 'u', 'wa'])"
      ]
    },
    {
      "cell_type": "code",
      "execution_count": null,
      "metadata": {
        "id": "feeYGy801mKP"
      },
      "outputs": [],
      "source": [
        "def response(user_response):\n",
        "  robo1_response=''\n",
        "  Tfidvec =TfidfVectorizer(tokenizer = LemNormalize, stop_words = 'english')\n",
        "  tfidf = Tfidvec.fit_transform(sentence_tokens)\n",
        "  vals = cosine_similarity(tfidf[-1],tfidf)\n",
        "  idx = vals.argsort()[0][-2]\n",
        "  flat = vals.flatten()\n",
        "  flat.sort()\n",
        "  req_tfidf = flat[-2]\n",
        "  if req_tfidf==0:\n",
        "    robo1_response = robo1_response + \"I am Sorry. Unable to understand You!\"\n",
        "    return robo1_response\n",
        "  else:\n",
        "    robo1_response = robo1_response + sentence_tokens[idx]\n",
        "    return robo1_response\n",
        "\n",
        "\n"
      ]
    },
    {
      "cell_type": "markdown",
      "metadata": {
        "id": "nyIFCOFs3n3o"
      },
      "source": [
        "Defining the ChatFLow"
      ]
    },
    {
      "cell_type": "code",
      "execution_count": null,
      "metadata": {
        "id": "Aa8JVtmI3qk_",
        "colab": {
          "base_uri": "https://localhost:8080/"
        },
        "outputId": "e5d5be02-3442-429e-a816-33d942af3d2c"
      },
      "outputs": [
        {
          "output_type": "stream",
          "name": "stdout",
          "text": [
            "Hello ! I am the Auto Learning Bot. Start typing your text after Greeting to talk to me. For ending type bye!\n",
            "hi\n",
            "Bot :"
          ]
        },
        {
          "output_type": "stream",
          "name": "stderr",
          "text": [
            "/usr/local/lib/python3.10/dist-packages/sklearn/feature_extraction/text.py:528: UserWarning: The parameter 'token_pattern' will not be used since 'tokenizer' is not None'\n",
            "  warnings.warn(\n",
            "/usr/local/lib/python3.10/dist-packages/sklearn/feature_extraction/text.py:409: UserWarning: Your stop_words may be inconsistent with your preprocessing. Tokenizing the stop words generated tokens ['ha', 'le', 'u', 'wa'] not in stop_words.\n",
            "  warnings.warn(\n"
          ]
        },
        {
          "output_type": "stream",
          "name": "stdout",
          "text": [
            "I am Sorry. Unable to understand You!\n",
            "hooks\n",
            "Bot :there's a ton of great stuff to cover, so let's get started:\n",
            "\n",
            "table of contents:\n",
            "usestate hook\n",
            "useeffect hook\n",
            "useref hook\n",
            "usecallback hook\n",
            "usememo hook\n",
            "usecontext hook\n",
            "usereducer hook\n",
            "1. usestate hook\n",
            "usestate to create state variables\n",
            "the usestate hook allows us to create state variables in a react function component.\n",
            "useRef\n",
            "Bot :there's a ton of great stuff to cover, so let's get started:\n",
            "\n",
            "table of contents:\n",
            "usestate hook\n",
            "useeffect hook\n",
            "useref hook\n",
            "usecallback hook\n",
            "usememo hook\n",
            "usecontext hook\n",
            "usereducer hook\n",
            "1. usestate hook\n",
            "usestate to create state variables\n",
            "the usestate hook allows us to create state variables in a react function component.\n",
            "usecallback hook\n",
            "Bot :there's a ton of great stuff to cover, so let's get started:\n",
            "\n",
            "table of contents:\n",
            "usestate hook\n",
            "useeffect hook\n",
            "useref hook\n",
            "usecallback hook\n",
            "usememo hook\n",
            "usecontext hook\n",
            "usereducer hook\n",
            "1. usestate hook\n",
            "usestate to create state variables\n",
            "the usestate hook allows us to create state variables in a react function component.\n",
            "usecallback\n",
            "Bot :there's a ton of great stuff to cover, so let's get started:\n",
            "\n",
            "table of contents:\n",
            "usestate hook\n",
            "useeffect hook\n",
            "useref hook\n",
            "usecallback hook\n",
            "usememo hook\n",
            "usecontext hook\n",
            "usereducer hook\n",
            "1. usestate hook\n",
            "usestate to create state variables\n",
            "the usestate hook allows us to create state variables in a react function component.\n",
            "reducer\n",
            "Bot :I am Sorry. Unable to understand You!\n",
            "exit\n",
            "Bot : Revoir!\n"
          ]
        }
      ],
      "source": [
        "flag = True\n",
        "print('Hello ! I am the Auto Learning Bot. Start typing your text after Greeting to talk to me. For ending type bye!')\n",
        "exit = ('bye','tata','exit','roko')\n",
        "while flag == True:\n",
        "  user_response = input().lower()\n",
        "  if user_response not in exit:\n",
        "    if user_response == 'thank you' or user_response == 'thanks':\n",
        "      flag =False\n",
        "      print(\"Bot : You are Welcome \")\n",
        "    else:\n",
        "      if greet(user_response) != None:\n",
        "        print(\"Bot :\"+ greet(user_response))\n",
        "      else:\n",
        "          sentence_tokens.append(user_response)\n",
        "          word_tokens = word_tokens + nltk.word_tokenize(user_response)\n",
        "          final_words = list(set(word_tokens))\n",
        "          print(\"Bot :\", end =\"\")\n",
        "          print(response(user_response))\n",
        "          sentence_tokens.remove(user_response)\n",
        "  else:\n",
        "    flag = False\n",
        "    print(\"Bot : Revoir!\")\n",
        "\n",
        "\n",
        "\n"
      ]
    }
  ],
  "metadata": {
    "colab": {
      "provenance": [],
      "mount_file_id": "1f6SK0BWgVBo3MXNirdGE2Faj0pChQb9F",
      "authorship_tag": "ABX9TyMl1GaGSnYe8QHbCCCa94p2",
      "include_colab_link": true
    },
    "kernelspec": {
      "display_name": "Python 3",
      "name": "python3"
    },
    "language_info": {
      "name": "python"
    }
  },
  "nbformat": 4,
  "nbformat_minor": 0
}